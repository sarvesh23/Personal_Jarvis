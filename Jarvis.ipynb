{
 "cells": [
  {
   "cell_type": "raw",
   "metadata": {},
   "source": [
    "# Making Jarvis"
   ]
  },
  {
   "cell_type": "code",
   "execution_count": 2,
   "metadata": {},
   "outputs": [
    {
     "name": "stdout",
     "output_type": "stream",
     "text": [
      "[JARVIS]: Good afternoon! I am Jarvis. How may I help you today?\n",
      "Listening...\n",
      "Recognizing...\n",
      "[Me]: stop\n",
      "[JARVIS]: Bye Saru, Have a good Day\n"
     ]
    }
   ],
   "source": [
    "import pyttsx3\n",
    "import datetime\n",
    "import speech_recognition as sr\n",
    "import wikipedia\n",
    "import webbrowser\n",
    "\n",
    "engine = pyttsx3.init('sapi5')\n",
    "# voices = engine.getProperty('voices')\n",
    "# engine.setProperty('voice', voices[13].id)\n",
    "def speak(text):\n",
    "  print(f'[JARVIS]: {text}')\n",
    "  engine.say(text)\n",
    "  engine.runAndWait()\n",
    "\n",
    "def wish_me():\n",
    "  hour = int(datetime.datetime.now().hour)\n",
    "  greeting = ''\n",
    "  if hour>=0 and hour<12:\n",
    "    greeting = 'Good morning!'\n",
    "\n",
    "  elif hour>=12 and hour<18:\n",
    "    greeting = 'Good afternoon!'\n",
    "\n",
    "  else:\n",
    "    greeting = 'Good evening!'\n",
    "  speak(f'{greeting} I am Jarvis. How may I help you today?')\n",
    "\n",
    "def takeCommand():\n",
    "  #It takes microphone input from the user and returns string output\n",
    "  r = sr.Recognizer()\n",
    "  with sr.Microphone() as source:\n",
    "    print(\"Listening...\")\n",
    "    r.pause_threshold = 1\n",
    "    audio = r.listen(source)\n",
    "  try:\n",
    "    print(\"Recognizing...\")    \n",
    "    query = r.recognize_google(audio, language='en-in')\n",
    "    print(f\"[Me]: {query}\")\n",
    "  except Exception as e:\n",
    "    # print(e)    \n",
    "    return \"None\"\n",
    "  return query\n",
    "# script starts here\n",
    "wish_me()\n",
    "\n",
    "while True:\n",
    "# if 1:\n",
    "  query = takeCommand().lower() \n",
    "  # Logic for executing tasks based on query\n",
    "  query = query.replace('jarvis', '')\n",
    "  if 'wikipedia' in query:\n",
    "    speak('Searching Wikipedia...')\n",
    "    query = query.replace(\"wikipedia\", \"\")\n",
    "    query = query.replace(\"search\", \"\")\n",
    "    query = query.replace(\"for\", \"\")\n",
    "    results = wikipedia.summary(query, sentences=1)\n",
    "    speak(f'According to Wikipedia, {results}')\n",
    "  elif 'open youtube' in query:\n",
    "    speak('Opening Youtube')\n",
    "    webbrowser.open(\"https://youtube.com\")\n",
    "  elif 'open google' in query:\n",
    "    speak('Opening Google')\n",
    "    webbrowser.open(\"https://google.com\")\n",
    "  elif 'open stack overflow' in query:\n",
    "    speak('Opening StackOverflow')\n",
    "    webbrowser.open(\"https://stackoverflow.com\")\n",
    "  elif 'what' in query and 'time' in query:\n",
    "    strTime = datetime.datetime.now().strftime(\"%H:%M:%S\")    \n",
    "    speak(f\"Sir, The time is {strTime}\")\n",
    "  elif 'meaning of life' in query:\n",
    "    speak('Sir, the meaning of life is 42.')\n",
    "  elif 'how are you' in query:\n",
    "    speak('I am doing jolly good, sir.')\n",
    "  elif query == 'stop':\n",
    "    speak('Bye Sir, Have a good Day')\n",
    "    break;\n",
    "  else:\n",
    "    speak('I didn\\'t quiet catch you sir. Can you please try that again?')  "
   ]
  },
  {
   "cell_type": "code",
   "execution_count": null,
   "metadata": {},
   "outputs": [],
   "source": []
  },
  {
   "cell_type": "code",
   "execution_count": null,
   "metadata": {},
   "outputs": [],
   "source": []
  }
 ],
 "metadata": {
  "kernelspec": {
   "display_name": "Python 3",
   "language": "python",
   "name": "python3"
  },
  "language_info": {
   "codemirror_mode": {
    "name": "ipython",
    "version": 3
   },
   "file_extension": ".py",
   "mimetype": "text/x-python",
   "name": "python",
   "nbconvert_exporter": "python",
   "pygments_lexer": "ipython3",
   "version": "3.7.6"
  }
 },
 "nbformat": 4,
 "nbformat_minor": 4
}
